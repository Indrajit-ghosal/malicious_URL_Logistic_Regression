{
  "nbformat": 4,
  "nbformat_minor": 0,
  "metadata": {
    "colab": {
      "provenance": [],
      "authorship_tag": "ABX9TyMLzXEwJ0xKv360MUjpd+oT",
      "include_colab_link": true
    },
    "kernelspec": {
      "name": "python3",
      "display_name": "Python 3"
    }
  },
  "cells": [
    {
      "cell_type": "markdown",
      "metadata": {
        "id": "view-in-github",
        "colab_type": "text"
      },
      "source": [
        "<a href=\"https://colab.research.google.com/github/Indrajit-ghosal/malicious_URL_Logistic_Regression/blob/main/Detection_of_malicious_URLs_using_Logistic_Regression.ipynb\" target=\"_parent\"><img src=\"https://colab.research.google.com/assets/colab-badge.svg\" alt=\"Open In Colab\"/></a>"
      ]
    },
    {
      "cell_type": "code",
      "metadata": {
        "id": "xwvHur0fqFjR"
      },
      "source": [
        "import pandas as pd\n",
        "import numpy as np\n",
        "import random\n",
        "from tensorflow import keras\n",
        "#from sklearn.feature_extraction.text import CountVectorizer\n",
        "from sklearn.feature_extraction.text import TfidfVectorizer\n",
        "from sklearn.linear_model import LogisticRegression\n",
        "from sklearn.model_selection import train_test_split"
      ],
      "execution_count": null,
      "outputs": []
    },
    {
      "cell_type": "code",
      "metadata": {
        "id": "1zhptmeQs8PR",
        "outputId": "bffba74f-3bb7-4cc5-fc12-6adc589516af",
        "colab": {
          "base_uri": "https://localhost:8080/",
          "height": 50
        }
      },
      "source": [
        "url=\"https://drive.google.com/u/0/uc?id=11yKyz0RGBc2qCQL_nrfDKPwQ6hs8-If1&export=download\"\n",
        "dataset_path=keras.utils.get_file('urldata.csv',url)"
      ],
      "execution_count": null,
      "outputs": [
        {
          "output_type": "stream",
          "text": [
            "Downloading data from https://drive.google.com/u/0/uc?id=11yKyz0RGBc2qCQL_nrfDKPwQ6hs8-If1&export=download\n",
            "18391040/Unknown - 0s 0us/step"
          ],
          "name": "stdout"
        }
      ]
    },
    {
      "cell_type": "code",
      "metadata": {
        "id": "qwUaZZBdtU-M",
        "outputId": "242bd8ae-c945-45d6-9407-99a73b4f17b0",
        "colab": {
          "base_uri": "https://localhost:8080/",
          "height": 195
        }
      },
      "source": [
        "url_data=pd.read_csv(dataset_path)\n",
        "url_data.head()"
      ],
      "execution_count": null,
      "outputs": [
        {
          "output_type": "execute_result",
          "data": {
            "text/html": [
              "<div>\n",
              "<style scoped>\n",
              "    .dataframe tbody tr th:only-of-type {\n",
              "        vertical-align: middle;\n",
              "    }\n",
              "\n",
              "    .dataframe tbody tr th {\n",
              "        vertical-align: top;\n",
              "    }\n",
              "\n",
              "    .dataframe thead th {\n",
              "        text-align: right;\n",
              "    }\n",
              "</style>\n",
              "<table border=\"1\" class=\"dataframe\">\n",
              "  <thead>\n",
              "    <tr style=\"text-align: right;\">\n",
              "      <th></th>\n",
              "      <th>url</th>\n",
              "      <th>label</th>\n",
              "    </tr>\n",
              "  </thead>\n",
              "  <tbody>\n",
              "    <tr>\n",
              "      <th>0</th>\n",
              "      <td>diaryofagameaddict.com</td>\n",
              "      <td>Malicious</td>\n",
              "    </tr>\n",
              "    <tr>\n",
              "      <th>1</th>\n",
              "      <td>espdesign.com.au</td>\n",
              "      <td>Malicious</td>\n",
              "    </tr>\n",
              "    <tr>\n",
              "      <th>2</th>\n",
              "      <td>iamagameaddict.com</td>\n",
              "      <td>Malicious</td>\n",
              "    </tr>\n",
              "    <tr>\n",
              "      <th>3</th>\n",
              "      <td>kalantzis.net</td>\n",
              "      <td>Malicious</td>\n",
              "    </tr>\n",
              "    <tr>\n",
              "      <th>4</th>\n",
              "      <td>slightlyoffcenter.net</td>\n",
              "      <td>Malicious</td>\n",
              "    </tr>\n",
              "  </tbody>\n",
              "</table>\n",
              "</div>"
            ],
            "text/plain": [
              "                      url      label\n",
              "0  diaryofagameaddict.com  Malicious\n",
              "1        espdesign.com.au  Malicious\n",
              "2      iamagameaddict.com  Malicious\n",
              "3           kalantzis.net  Malicious\n",
              "4   slightlyoffcenter.net  Malicious"
            ]
          },
          "metadata": {
            "tags": []
          },
          "execution_count": 4
        }
      ]
    },
    {
      "cell_type": "code",
      "metadata": {
        "id": "KNIR8FypuwWs"
      },
      "source": [
        "y = url_data[\"label\"]\n",
        "urls = url_data[\"url\"]\n",
        "token = TfidfVectorizer() #initializing tokenizer\n",
        "X = token.fit_transform(urls)"
      ],
      "execution_count": null,
      "outputs": []
    },
    {
      "cell_type": "code",
      "metadata": {
        "id": "fS-DnH_uTniR",
        "outputId": "fc0dac63-8bb9-44a3-ec92-fcb3c26a8271",
        "colab": {
          "base_uri": "https://localhost:8080/",
          "height": 50
        }
      },
      "source": [
        "print(X[0])"
      ],
      "execution_count": null,
      "outputs": [
        {
          "output_type": "stream",
          "text": [
            "  (0, 159634)\t0.09828862050148528\n",
            "  (0, 175869)\t0.9951579508198258\n"
          ],
          "name": "stdout"
        }
      ]
    },
    {
      "cell_type": "code",
      "metadata": {
        "id": "qZDFt0QtvyBa"
      },
      "source": [
        "#Spliting 85:15 85% for training the model and 15% for testing the accuricy\n",
        "X_train, X_test, y_train, y_test = train_test_split(X, y, test_size=0.15, random_state=50)"
      ],
      "execution_count": null,
      "outputs": []
    },
    {
      "cell_type": "code",
      "metadata": {
        "id": "RM9q6tCBworx",
        "outputId": "28658c8e-8ec5-4329-b7e8-d83b9c262602",
        "colab": {
          "base_uri": "https://localhost:8080/",
          "height": 101
        }
      },
      "source": [
        "# Model training using logistic regression\n",
        "model = LogisticRegression(max_iter=300,solver=\"saga\",tol=0.001)\t#initializing logistic regression with maximum iteration 300, solver algo as \"saga\" and tolerance 0.001 rest all atre default setting\n",
        "model.fit(X_train, y_train)"
      ],
      "execution_count": null,
      "outputs": [
        {
          "output_type": "execute_result",
          "data": {
            "text/plain": [
              "LogisticRegression(C=1.0, class_weight=None, dual=False, fit_intercept=True,\n",
              "                   intercept_scaling=1, l1_ratio=None, max_iter=300,\n",
              "                   multi_class='auto', n_jobs=None, penalty='l2',\n",
              "                   random_state=None, solver='saga', tol=0.001, verbose=0,\n",
              "                   warm_start=False)"
            ]
          },
          "metadata": {
            "tags": []
          },
          "execution_count": 8
        }
      ]
    },
    {
      "cell_type": "code",
      "metadata": {
        "id": "VB4etpTDyuBi",
        "outputId": "d2ad4b0f-b954-4541-8db4-42c5f6c91257",
        "colab": {
          "base_uri": "https://localhost:8080/",
          "height": 34
        }
      },
      "source": [
        "print(\"Accuracy = \",f\"{model.score(X_test, y_test)*100:.2f}\",\"%\")"
      ],
      "execution_count": null,
      "outputs": [
        {
          "output_type": "stream",
          "text": [
            "Accuracy =  96.42 %\n"
          ],
          "name": "stdout"
        }
      ]
    },
    {
      "cell_type": "code",
      "metadata": {
        "id": "kNAoIZquyT86",
        "outputId": "ce8f6a17-45f4-4c91-f9f9-077a7367f4b3",
        "colab": {
          "base_uri": "https://localhost:8080/",
          "height": 202
        }
      },
      "source": [
        "#tesing\n",
        "X_predict = [\"google.com\",\"lpu.in\",\"myclass.lpu.in\",\"www.buyfakebillsonlinee.blogspot.com\",\"www.unitedairlineslogistics.com\",\"www.stonehousedelivery.com\",\"www.silkroadmeds-onlinepharmacy.com\" \"google.com/search=faizanahmad\",\"pakistanifacebookforever.com/getpassword.php/\", \"www.radsport-voggel.de/wp-admin/includes/log.exe\", \"ahrenhei.without-transfer.ru/nethost.exe \",\"www.itidea.it/centroesteticosothys/img/_notes/gum.exe\"]\n",
        "X_predict = token.transform(X_predict)\n",
        "New_predict = model.predict(X_predict)\n",
        "for i in New_predict:\n",
        "  print(i)"
      ],
      "execution_count": null,
      "outputs": [
        {
          "output_type": "stream",
          "text": [
            "Safe\n",
            "Safe\n",
            "Safe\n",
            "Malicious\n",
            "Malicious\n",
            "Malicious\n",
            "Malicious\n",
            "Safe\n",
            "Malicious\n",
            "Malicious\n",
            "Malicious\n"
          ],
          "name": "stdout"
        }
      ]
    },
    {
      "cell_type": "code",
      "metadata": {
        "id": "_m-HaJMlUXMm",
        "outputId": "0068493b-3462-4f13-be8b-22ae78a35480",
        "colab": {
          "base_uri": "https://localhost:8080/",
          "height": 50
        }
      },
      "source": [
        "ip=[]\n",
        "ip.append(input(\"Enter The websight\\t\"))\n",
        "ipp=token.transform(ip)\n",
        "print(model.predict(ipp))"
      ],
      "execution_count": null,
      "outputs": [
        {
          "output_type": "stream",
          "text": [
            "Enter The websight\tairtel.in\n",
            "['Safe']\n"
          ],
          "name": "stdout"
        }
      ]
    }
  ]
}